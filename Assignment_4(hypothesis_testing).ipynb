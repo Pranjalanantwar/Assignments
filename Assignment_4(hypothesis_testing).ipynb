{
 "cells": [
  {
   "cell_type": "markdown",
   "metadata": {
    "id": "eZiIWfedm_tY"
   },
   "source": [
    "#Hypothesis Testing"
   ]
  },
  {
   "cell_type": "markdown",
   "metadata": {
    "id": "mdz5aWSnYGqo"
   },
   "source": [
    "1. State the Hypotheses Statement\n",
    "\n",
    "\n",
    "We are testing whether the observed weekly operating costs are higher than the  model suggests. The hypotheses are:\n",
    "\n",
    ".Null Hypothesis (H₀): The weekly operating cost follows the model.\n",
    "\n",
    "𝐻\n",
    "0\n",
    ":\n",
    "𝜇\n",
    "=\n",
    "1\n",
    ",\n",
    "000\n",
    "+\n",
    "5\n",
    "⋅\n",
    "𝑋\n",
    "\n",
    " Since x is given 600. We substitue the value of x.\n",
    "\n",
    "  μ=1,000+5*600\n",
    "\n",
    "  μ=4,000\n",
    "\n",
    "  .Alternative Hypothesis (H₁): The weekly operating cost is higher than the model.\n",
    "\n",
    "H\n",
    "1\n",
    "​\n",
    " :μ>4,000\n",
    "\n",
    "This is a one-tailed test, where we are checking if the actual mean is greater than the mean given by the model.\n",
    "\n"
   ]
  },
  {
   "cell_type": "markdown",
   "metadata": {
    "id": "faEi_6iYbid4"
   },
   "source": [
    "2. Calculate the Test Statistic\n",
    "\n",
    "We are given:\n",
    "\n",
    "Sample mean weekly cost\n",
    "xˉ=3,050\n",
    "\n",
    "\n",
    "Theoretical mean weekly cost\n",
    "μ 0=4,000\n",
    "\n",
    "\n",
    "Standard deviation\n",
    "σ=5⋅25=125\n",
    "\n",
    "Sample size\n",
    "n=25"
   ]
  },
  {
   "cell_type": "code",
   "execution_count": null,
   "metadata": {
    "id": "K0nVVKD-cYAY"
   },
   "outputs": [],
   "source": [
    "import math\n",
    "from scipy.stats import norm\n",
    "import numpy as np\n"
   ]
  },
  {
   "cell_type": "code",
   "execution_count": null,
   "metadata": {
    "id": "IIOAge5wce_c"
   },
   "outputs": [],
   "source": [
    "sample_mean = 3050  # Sample mean weekly cost (Rs.)\n",
    "model_mean = 4000  # model mean weekly cost (Rs.)\n",
    "std_dev = 5 * 25  # Standard deviation (Rs.)\n",
    "sample_size = 25  # Sample size"
   ]
  },
  {
   "cell_type": "markdown",
   "metadata": {
    "id": "TNcWnZe8c6cP"
   },
   "source": [
    "Since, the population standard deviation is known to us. We will use the z-test formula.\n",
    "\n",
    "z=(sample mean- model mean)/(population standard deviation/ (sample size)^2\n",
    "z=(3050-4000)/(5*25/(25)^2)"
   ]
  },
  {
   "cell_type": "code",
   "execution_count": null,
   "metadata": {
    "colab": {
     "base_uri": "https://localhost:8080/"
    },
    "id": "pCtKMxlzc1zB",
    "outputId": "caa1d66a-33fd-453f-b216-6bbde3136833"
   },
   "outputs": [
    {
     "name": "stdout",
     "output_type": "stream",
     "text": [
      "Test Statistic (Z): -38.0\n"
     ]
    }
   ],
   "source": [
    "Z = (sample_mean - model_mean) / (std_dev / math.sqrt(sample_size))\n",
    "print(\"Test Statistic (Z):\", Z)"
   ]
  },
  {
   "cell_type": "markdown",
   "metadata": {
    "id": "11NkIaEYgPu7"
   },
   "source": [
    "3. Determine the Critical Value\n",
    "\n",
    "For right tailed test with\n",
    "α=0.05, we will look up the critical value from the Z-distribution table.\n",
    "\n",
    "The critical value for\n",
    "α=0.05 is:"
   ]
  },
  {
   "cell_type": "code",
   "execution_count": null,
   "metadata": {
    "colab": {
     "base_uri": "https://localhost:8080/"
    },
    "id": "3h8YinQrh8L8",
    "outputId": "397c31b1-0638-4d84-bcac-022beb8e3d31"
   },
   "outputs": [
    {
     "name": "stdout",
     "output_type": "stream",
     "text": [
      "Critical Value (Z): 1.64\n"
     ]
    }
   ],
   "source": [
    "alpha = 0.05\n",
    "Z_critical = norm.ppf(1 - alpha)\n",
    "print(\"Critical Value (Z):\", np.round(Z_critical, 2))"
   ]
  },
  {
   "cell_type": "markdown",
   "metadata": {
    "id": "PhbcKS8GjCh_"
   },
   "source": [
    "Z\n",
    "critical=1.645"
   ]
  },
  {
   "cell_type": "markdown",
   "metadata": {
    "id": "3x3y3pTMkPEj"
   },
   "source": [
    "4. Make a Decision\n",
    "We compare the calculated test statistic with the critical value:\n",
    "\n",
    "If Z > Zcritical, we reject the null hypothesis.\n",
    "\n",
    "\n",
    "If Z ≤ Zcritical, we fail to reject the null hypothesis.\n",
    "\n",
    "In this case, the test statistic\n",
    "Z=−38 is much less than the critical value\n",
    "Zcritical=1.645. Therefore, we fail to reject the null hypothesis."
   ]
  },
  {
   "cell_type": "code",
   "execution_count": null,
   "metadata": {
    "id": "dyvjb6BEkIik"
   },
   "outputs": [],
   "source": [
    "if Z > Z_critical:\n",
    "    decision = \"Reject the null hypothesis\"\n",
    "else:\n",
    "    decision = \"Fail to reject the null hypothesis\""
   ]
  },
  {
   "cell_type": "code",
   "execution_count": null,
   "metadata": {
    "colab": {
     "base_uri": "https://localhost:8080/"
    },
    "id": "Io55OUOklNMC",
    "outputId": "6bd06124-42b7-4c4e-ed03-a622eb778a30"
   },
   "outputs": [
    {
     "name": "stdout",
     "output_type": "stream",
     "text": [
      "Test Statistic (Z): -38.0000\n",
      "Critical Value (Z): 1.6449\n",
      "Decision: Fail to reject the null hypothesis\n"
     ]
    }
   ],
   "source": [
    "print(f\"Test Statistic (Z): {Z:.4f}\")\n",
    "print(f\"Critical Value (Z): {Z_critical:.4f}\")\n",
    "print(f\"Decision: {decision}\")"
   ]
  },
  {
   "cell_type": "markdown",
   "metadata": {
    "id": "lww24iOjlrfk"
   },
   "source": [
    "5. Conclusion\n",
    "\n",
    "After running the hypothesis test, we found that the test statistic was **-38**, which is way smaller than the critical value of **1.645**. This essentially means that the sample's weekly operating costs are significantly lower than what the original model predicted (which was $4,000).\n",
    "\n",
    "Because our test statistic is so far below the critical value, we **don’t have enough evidence** to support the restaurant owners' claim that their costs are higher than expected. In fact, it looks like the operating costs are **actually lower** than what the model suggested, based on this data.\n",
    "\n",
    "So, the conclusion here is: the restaurant owners’ concern about higher costs doesn’t seem to be backed up by the numbers. The costs are likely in line with or even below what the model predicted."
   ]
  },
  {
   "cell_type": "markdown",
   "metadata": {
    "id": "NP4VAivemL7M"
   },
   "source": [
    "# Chi Square"
   ]
  },
  {
   "cell_type": "markdown",
   "metadata": {
    "id": "QSRq-ztOozm3"
   },
   "source": [
    "1. State the Hypotheses:\n",
    "\n",
    "Null Hypothesis (H₀):\n",
    "The two variables are independent , i.e there's no significant association between the type of device purchased and the customer's satisfaction level.\n",
    "\n",
    "Alternative Hypothesis (H₁):\n",
    "The two variables are dependent , i.e there's a significant association between the type of device purchased and the customer's satisfaction level"
   ]
  },
  {
   "cell_type": "markdown",
   "metadata": {
    "id": "f2r-bkNNqMDZ"
   },
   "source": [
    "2. Compute the Chi-Square Statistic:\n",
    "The Chi-Square test statistic is calculated using the formula:\n",
    "\n",
    "    𝜒2=∑(𝑂−𝐸)2/E\n",
    "\n",
    ".O is the observed frequency.\n",
    "\n",
    "\n",
    ".E is the expected frequency, which is calculated by:\n",
    "\n",
    "    E=(Total of observations (row) * Total of observations (columns)/Total number of observations\n",
    "\n",
    "  The next step is to compute the expected frequencies for each cell in the contingency table and then calculate the Chi-Square statistic."
   ]
  },
  {
   "cell_type": "code",
   "execution_count": null,
   "metadata": {
    "id": "mRXrr9WbmX8G"
   },
   "outputs": [],
   "source": [
    "import numpy as np\n",
    "from scipy.stats import chi2_contingency\n"
   ]
  },
  {
   "cell_type": "code",
   "execution_count": null,
   "metadata": {
    "id": "zBeF8r74sYVX"
   },
   "outputs": [],
   "source": [
    "observed = np.array([\n",
    "    [50, 70],  # Very Satisfied\n",
    "    [80, 100], # Satisfied\n",
    "    [60, 90],  # Neutral\n",
    "    [30, 50],  # Unsatisfied\n",
    "    [20, 50]   # Very Unsatisfied\n",
    "])"
   ]
  },
  {
   "cell_type": "code",
   "execution_count": null,
   "metadata": {
    "id": "NdSMNNGAsmy3"
   },
   "outputs": [],
   "source": [
    "chi2_stat, p_val, dof, expected = chi2_contingency(observed)"
   ]
  },
  {
   "cell_type": "markdown",
   "metadata": {
    "id": "2ewcBtdVst9h"
   },
   "source": [
    "3. Determine the Critical Value:\n",
    "\n",
    ".Significance Level (α): 0.05\n",
    "\n",
    ".Degrees of Freedom (df): The degrees of freedom for a Chi-Square test of independence is given by:\n",
    "\n",
    "    df=(row−1)×(column−1)\n",
    "    \n",
    "We will use the chi-square distribution to determine the critical value for df at a significance level of 0.05.\n",
    "\n",
    "\n"
   ]
  },
  {
   "cell_type": "code",
   "execution_count": null,
   "metadata": {
    "id": "VWkTw6RFtqZO"
   },
   "outputs": [],
   "source": [
    "alpha = 0.05"
   ]
  },
  {
   "cell_type": "markdown",
   "metadata": {
    "id": "xD9b4zQrtvhW"
   },
   "source": [
    "4. Make a Decision:\n",
    "After computing the Chi-Square statistic, compare it to the critical value obtained from the Chi-Square distribution table. If the Chi-Square statistic is greater than the critical value, you reject the null hypothesis"
   ]
  },
  {
   "cell_type": "code",
   "execution_count": null,
   "metadata": {
    "id": "KItBKoe6uDJH"
   },
   "outputs": [],
   "source": [
    "if p_val < alpha:\n",
    "   decision=\"Reject the null hypothesis\"\n",
    "else :\n",
    "  decision=\"Fail to reject the null hypothesis\""
   ]
  },
  {
   "cell_type": "code",
   "execution_count": null,
   "metadata": {
    "colab": {
     "base_uri": "https://localhost:8080/"
    },
    "id": "6ItSp5ydu3aD",
    "outputId": "edcc4c92-ad04-4c5a-bf49-3856fd5d6be9"
   },
   "outputs": [
    {
     "name": "stdout",
     "output_type": "stream",
     "text": [
      "Chi-Square Statistic: 5.6382\n",
      "P-Value: 0.2278\n",
      "Degrees of Freedom: 4\n",
      "Decision: Fail to reject the null hypothesis\n",
      "Expected Frequencies: \n",
      "[[ 48.  72.]\n",
      " [ 72. 108.]\n",
      " [ 60.  90.]\n",
      " [ 32.  48.]\n",
      " [ 28.  42.]]\n"
     ]
    }
   ],
   "source": [
    "print(f\"Chi-Square Statistic: {chi2_stat:.4f}\")\n",
    "print(f\"P-Value: {p_val:.4f}\")\n",
    "print(f\"Degrees of Freedom: {dof}\")\n",
    "print(f\"Decision: {decision}\")\n",
    "print(f\"Expected Frequencies: \\n{expected}\")"
   ]
  },
  {
   "cell_type": "markdown",
   "metadata": {
    "id": "DwVvE4BlwzcC"
   },
   "source": [
    "Conclusion:\n",
    "Since the p-value (0.2278) is greater than 0.05, we fail to reject the null hypothesis. This means that there is no significant association between the type of device purchased (Smart Thermostat vs. Smart Light) and customer satisfaction level. Therefore, customer satisfaction seems to be independent of the type of device purchased."
   ]
  }
 ],
 "metadata": {
  "colab": {
   "provenance": []
  },
  "kernelspec": {
   "display_name": "Python 3 (ipykernel)",
   "language": "python",
   "name": "python3"
  },
  "language_info": {
   "codemirror_mode": {
    "name": "ipython",
    "version": 3
   },
   "file_extension": ".py",
   "mimetype": "text/x-python",
   "name": "python",
   "nbconvert_exporter": "python",
   "pygments_lexer": "ipython3",
   "version": "3.12.4"
  }
 },
 "nbformat": 4,
 "nbformat_minor": 4
}
