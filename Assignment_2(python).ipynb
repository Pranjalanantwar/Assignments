{
 "cells": [
  {
   "cell_type": "markdown",
   "metadata": {
    "id": "7cuVjVgR2hRA"
   },
   "source": [
    "Exercise 1: Prime Numbers\n",
    "\n",
    "Write a Python program that checks whether a given number is prime or not. A prime number is a natural number greater than 1 that has no positive divisors other than 1 and itself."
   ]
  },
  {
   "cell_type": "code",
   "execution_count": null,
   "metadata": {
    "colab": {
     "base_uri": "https://localhost:8080/"
    },
    "id": "UHY-xPW1tkVY",
    "outputId": "8bffe703-ed76-48ea-c3f0-4b5647619969"
   },
   "outputs": [
    {
     "name": "stdout",
     "output_type": "stream",
     "text": [
      "enter number6\n",
      "no. is not prime\n"
     ]
    }
   ],
   "source": [
    "\n",
    "f=0 # f variable used as flag to check whether the number is divisible by any number other than 1 and itself.\n",
    "a=int(input(\"enter number\")) #input from User stored on variable a.\n",
    "# Loop to check if number is divisible by any number between 2 and a//2\n",
    "for i in range (2, a// 2 + 1,1):\n",
    "    if a % i == 0:\n",
    "        f = 1\n",
    "    break  # Exit the loop as soon as a divisor is found\n",
    "# Prime check\n",
    "if f==0 and a > 1:\n",
    "  print(\"no.is prime\")  # Prime numbers are greater than 1\n",
    "else:\n",
    "  print(\"no. is not prime\")"
   ]
  },
  {
   "cell_type": "markdown",
   "metadata": {
    "id": "GroXRw722r71"
   },
   "source": [
    "Exercise 2: Product of Random Numbers\n",
    "\n",
    "Develop a Python program that generates two random numbers and asks the user to enter the product of these numbers. The program should then check if the user's answer is correct and display an appropriate message."
   ]
  },
  {
   "cell_type": "code",
   "execution_count": null,
   "metadata": {
    "colab": {
     "base_uri": "https://localhost:8080/"
    },
    "id": "2Iw2SPchxKrg",
    "outputId": "d457b05e-4b5d-4ece-d2bc-a01f4c40a201"
   },
   "outputs": [
    {
     "name": "stdout",
     "output_type": "stream",
     "text": [
      "82 65\n",
      "What is the product?\n",
      "5330\n",
      "correct! Good Job\n"
     ]
    }
   ],
   "source": [
    "import random\n",
    "#Generates random integers.\n",
    "n1=random.randint(1,100)\n",
    "n2=random.randint(1,100)\n",
    "print(n1,n2)\n",
    "correct_ans=n1*n2 # correct product.\n",
    "print(\"What is the product?\")\n",
    "user_ans=int(input())#User input.\n",
    "if user_ans==correct_ans: # compares the correct product to user input.\n",
    "    print(\"correct! Good Job!\")\n",
    "else:\n",
    "    print(\"That's Incorrect.the correct answer is\",correct_ans)"
   ]
  },
  {
   "cell_type": "markdown",
   "metadata": {
    "id": "HBW24OKj21fc"
   },
   "source": [
    "Exercise 3: Squares of Even/Odd Numbers\n",
    "\n",
    "Create a Python script that prints the squares of all even or odd numbers within the range of 100 to 200. Choose either even or odd numbers and document your choice in the code."
   ]
  },
  {
   "cell_type": "code",
   "execution_count": null,
   "metadata": {
    "colab": {
     "base_uri": "https://localhost:8080/"
    },
    "id": "su4KgslBzONd",
    "outputId": "c8e21431-7f38-482b-fd0e-5bd58552a789"
   },
   "outputs": [
    {
     "name": "stdout",
     "output_type": "stream",
     "text": [
      "The square of 100 is 10000\n",
      "The square of 102 is 10404\n",
      "The square of 104 is 10816\n",
      "The square of 106 is 11236\n",
      "The square of 108 is 11664\n",
      "The square of 110 is 12100\n",
      "The square of 112 is 12544\n",
      "The square of 114 is 12996\n",
      "The square of 116 is 13456\n",
      "The square of 118 is 13924\n",
      "The square of 120 is 14400\n",
      "The square of 122 is 14884\n",
      "The square of 124 is 15376\n",
      "The square of 126 is 15876\n",
      "The square of 128 is 16384\n",
      "The square of 130 is 16900\n",
      "The square of 132 is 17424\n",
      "The square of 134 is 17956\n",
      "The square of 136 is 18496\n",
      "The square of 138 is 19044\n",
      "The square of 140 is 19600\n",
      "The square of 142 is 20164\n",
      "The square of 144 is 20736\n",
      "The square of 146 is 21316\n",
      "The square of 148 is 21904\n",
      "The square of 150 is 22500\n",
      "The square of 152 is 23104\n",
      "The square of 154 is 23716\n",
      "The square of 156 is 24336\n",
      "The square of 158 is 24964\n",
      "The square of 160 is 25600\n",
      "The square of 162 is 26244\n",
      "The square of 164 is 26896\n",
      "The square of 166 is 27556\n",
      "The square of 168 is 28224\n",
      "The square of 170 is 28900\n",
      "The square of 172 is 29584\n",
      "The square of 174 is 30276\n",
      "The square of 176 is 30976\n",
      "The square of 178 is 31684\n",
      "The square of 180 is 32400\n",
      "The square of 182 is 33124\n",
      "The square of 184 is 33856\n",
      "The square of 186 is 34596\n",
      "The square of 188 is 35344\n",
      "The square of 190 is 36100\n",
      "The square of 192 is 36864\n",
      "The square of 194 is 37636\n",
      "The square of 196 is 38416\n",
      "The square of 198 is 39204\n",
      "The square of 200 is 40000\n"
     ]
    }
   ],
   "source": [
    "for num in range(100, 201):#loop.\n",
    "    if num % 2 == 0:# checking for Even Number.\n",
    "        square = num ** 2 # Calculating the square.\n",
    "        print(f\"The square of {num} is {square}\")# result"
   ]
  },
  {
   "cell_type": "markdown",
   "metadata": {
    "id": "B8i1bA3l28Nu"
   },
   "source": [
    "Exercise 4: Word counter\n",
    "\n",
    "write a program to count the number of words in a given text.\r\n",
    "example:\r\n",
    "input_text = \"This is a sample text. This text will be used to demonstrate the word counter.\"\r\n",
    "Expected output:\r\n",
    "'This': 2 \r\n",
    "'is': 1\r\n",
    "'a': 1\r\n",
    "'sample': 1\r\n",
    "'text.': 1\r\n"
   ]
  },
  {
   "cell_type": "code",
   "execution_count": null,
   "metadata": {
    "colab": {
     "base_uri": "https://localhost:8080/"
    },
    "id": "wO2weezRuvOT",
    "outputId": "22309788-768f-4cc9-ed07-089e30ee7c67"
   },
   "outputs": [
    {
     "name": "stdout",
     "output_type": "stream",
     "text": [
      "'This': 2\n",
      "'is': 1\n",
      "'a': 1\n",
      "'sample': 1\n",
      "'text': 2\n",
      "'will': 1\n",
      "'be': 1\n",
      "'used': 1\n",
      "'to': 1\n",
      "'demonstrate': 1\n",
      "'the': 1\n",
      "'word': 1\n",
      "'counter': 1\n"
     ]
    }
   ],
   "source": [
    "# Given input text.\n",
    "input_text = \"This is a sample text. This text will be used to demonstrate the word counter.\"\n",
    "# Text into a list of words.\n",
    "words = input_text.split() # Splitting it by spaces.\n",
    "# Create an empty dictionary.\n",
    "word_count = {}\n",
    "for word in words: #Loop\n",
    "    word = word.strip('.') # Remove punctuation marks like periods and commas.\n",
    "    if word in word_count:# Check if the word is in word_count.\n",
    "        word_count[word] += 1# Increment the count of the word.\n",
    "    else:\n",
    "        word_count[word] = 1 # If the word is not in the dictionary, add it with count 1.\n",
    "# Results:\n",
    "for word, count in word_count.items():\n",
    "    print(f\"'{word}': {count}\")"
   ]
  },
  {
   "cell_type": "markdown",
   "metadata": {
    "id": "bMhfcrhK293o"
   },
   "source": [
    "Exercise 5: Check for Palindrome\n",
    "\n",
    "Write a Python function called is_palindrome that takes a string as input and returns True if the string is a palindrome, and False otherwise. A palindrome is a word, phrase, number, or other sequence of characters that reads the same forward and backward, ignoring spaces, punctuation, and capitalization.\r\n",
    "Example:\r\n",
    "Input: \"racecar\"\r\n",
    "Expected Output: Tr____\r\n"
   ]
  },
  {
   "cell_type": "code",
   "execution_count": null,
   "metadata": {
    "colab": {
     "base_uri": "https://localhost:8080/"
    },
    "id": "ENesCQNOzNf_",
    "outputId": "a2d94224-ea10-4ab6-ad4b-b10389042a3f"
   },
   "outputs": [
    {
     "name": "stdout",
     "output_type": "stream",
     "text": [
      "True\n"
     ]
    }
   ],
   "source": [
    "import re #The re module provides functionsthat allow you to work with regular expressions to perform tasks like pattern matching, searching, replacing, and splitting strings based on specific patterns.\n",
    "\n",
    "def is_palindrome(input_string):# function\n",
    "    cleaned_string = re.sub(r'[^a-zA-Z0-9]', '', input_string).lower()# Remove punctuation, spaces and convert to lowercase\n",
    "    return cleaned_string == cleaned_string[::-1]# Check if the string is the same forward and backward\n",
    "\n",
    "# Example usage\n",
    "input_text = \"racecar\"\n",
    "print(is_palindrome(input_text))  # Expected Output: True"
   ]
  }
 ],
 "metadata": {
  "colab": {
   "provenance": []
  },
  "kernelspec": {
   "display_name": "Python 3 (ipykernel)",
   "language": "python",
   "name": "python3"
  },
  "language_info": {
   "codemirror_mode": {
    "name": "ipython",
    "version": 3
   },
   "file_extension": ".py",
   "mimetype": "text/x-python",
   "name": "python",
   "nbconvert_exporter": "python",
   "pygments_lexer": "ipython3",
   "version": "3.12.4"
  }
 },
 "nbformat": 4,
 "nbformat_minor": 4
}
