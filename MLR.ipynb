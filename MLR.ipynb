{
 "cells": [
  {
   "cell_type": "markdown",
   "id": "87d6f0b9-b4a5-48fb-9b56-0f6bf4f0560a",
   "metadata": {},
   "source": [
    "Initial Observations:\n",
    "\n",
    "#The dataset has 1,436 entries and 11 columns.\n",
    "\n",
    "#The target variable is Price.\n",
    "\n",
    "#The feature columns include numerical variables like Age, KM, HP, CC, Doors, Cylinders, #Gears, and Weight.\n",
    "\n",
    "#Fuel_Type is a categorical variable.\n",
    "\n",
    "#Automatic is binary (1 = Yes, 0 = No)."
   ]
  },
  {
   "cell_type": "markdown",
   "id": "67ad6f1b-625f-44b6-9f51-f64766574ab0",
   "metadata": {},
   "source": [
    "EDA"
   ]
  },
  {
   "cell_type": "code",
   "execution_count": null,
   "id": "7de674b6-d4d4-42b0-bd95-cfc61c19b65d",
   "metadata": {},
   "outputs": [],
   "source": [
    "import pandas as pd\n",
    "import numpy as np\n",
    "import matplotlib.pyplot as plt\n",
    "import seaborn as sns\n",
    "import statsmodels.api as sm\n",
    "from statsmodels.stats.outliers_influence import variance_inflation_factor\n",
    "from sklearn.model_selection import train_test_split\n",
    "from sklearn.linear_model import Ridge, Lasso\n",
    "from sklearn.metrics import mean_absolute_error, mean_squared_error, r2_score\n",
    "plt.rcParams['figure.figsize'] = (10,5) # RuntimeConfiguration Parameters: size of graph, 10:width, 5:height\n",
    "plt.rcParams['figure.dpi'] = 300 # Resolution dots per inches\n",
    "%matplotlib inline\n",
    "# after plotting graph, many times depending on version of working library like matplotlib graph will not be displayed in output screen below\n",
    "# For that we have to write everytime plt.show(). So if you write '%matplotlib inline' we don't need to write show() method.\n",
    "import warnings # any library will give you future warnings regarding updates in functions. To ignore it write this line\n",
    "warnings.filterwarnings('ignore')"
   ]
  },
  {
   "cell_type": "code",
   "execution_count": null,
   "id": "e2540a08-2479-46f3-86fb-6b942f7764fe",
   "metadata": {},
   "outputs": [],
   "source": [
    "df = pd.read_csv(\"ToyotaCorolla - MLR.csv\") # No index column will be displayed\n",
    "df"
   ]
  },
  {
   "cell_type": "code",
   "execution_count": null,
   "id": "c6c994e8-7289-4659-ad86-ac1383ce3e7c",
   "metadata": {},
   "outputs": [],
   "source": [
    "df.head()"
   ]
  },
  {
   "cell_type": "code",
   "execution_count": null,
   "id": "f91cbd2a-f9fd-4de4-9409-23e15dadb680",
   "metadata": {},
   "outputs": [],
   "source": [
    "df.tail()"
   ]
  },
  {
   "cell_type": "code",
   "execution_count": null,
   "id": "51746f37-27bf-41d2-a245-ef7be9371a55",
   "metadata": {},
   "outputs": [],
   "source": [
    "df.describe()"
   ]
  },
  {
   "cell_type": "code",
   "execution_count": null,
   "id": "17b678e4-749e-44fa-94cc-04e934e91d75",
   "metadata": {},
   "outputs": [],
   "source": [
    "df.describe(include=object)"
   ]
  },
  {
   "cell_type": "code",
   "execution_count": null,
   "id": "c3a005c2-4f31-4c5a-8bf1-6c921b509dcd",
   "metadata": {},
   "outputs": [],
   "source": [
    "df.dtypes"
   ]
  },
  {
   "cell_type": "code",
   "execution_count": null,
   "id": "884a3a89-03de-4e14-b3c3-d265ec0f56e9",
   "metadata": {},
   "outputs": [],
   "source": [
    "df.info() # find missing values"
   ]
  },
  {
   "cell_type": "markdown",
   "id": "2698e0cf-64eb-46b8-b1ef-7dfa0c188ffa",
   "metadata": {},
   "source": [
    "#No missing values are present."
   ]
  },
  {
   "cell_type": "code",
   "execution_count": null,
   "id": "81aeb698-424f-423d-9bb4-94dc1088df6e",
   "metadata": {},
   "outputs": [],
   "source": [
    "print(df.columns)"
   ]
  },
  {
   "cell_type": "code",
   "execution_count": null,
   "id": "1c93b0b3-2175-41da-8dad-b58590e32b73",
   "metadata": {},
   "outputs": [],
   "source": [
    "df['Fuel_Type']"
   ]
  },
  {
   "cell_type": "code",
   "execution_count": null,
   "id": "dfee08be-c8ae-418a-b22e-502529294c46",
   "metadata": {},
   "outputs": [],
   "source": [
    "df['Fuel_Type'].unique()"
   ]
  },
  {
   "cell_type": "code",
   "execution_count": null,
   "id": "90b2ae1a-dc40-4efa-a382-d5028fb9d434",
   "metadata": {},
   "outputs": [],
   "source": [
    "df['Fuel_Type'].value_counts()"
   ]
  },
  {
   "cell_type": "code",
   "execution_count": null,
   "id": "0dbd6b3f-bf61-42b6-b5e3-2bcce41943b7",
   "metadata": {
    "scrolled": true
   },
   "outputs": [],
   "source": [
    "df = pd.get_dummies(df, columns=['Fuel_Type'], drop_first=True, dtype=int)"
   ]
  },
  {
   "cell_type": "code",
   "execution_count": null,
   "id": "44482d2c-0639-4610-99bc-6f284e886de6",
   "metadata": {},
   "outputs": [],
   "source": [
    "df"
   ]
  },
  {
   "cell_type": "code",
   "execution_count": null,
   "id": "5565b379-5e3c-4ade-a8d7-2f7de3c49529",
   "metadata": {},
   "outputs": [],
   "source": [
    "df.duplicated()"
   ]
  },
  {
   "cell_type": "code",
   "execution_count": null,
   "id": "21b82f91-1104-4364-8fce-c656a19903b0",
   "metadata": {},
   "outputs": [],
   "source": [
    "df.duplicated().sum()"
   ]
  },
  {
   "cell_type": "code",
   "execution_count": null,
   "id": "49ccbddc-7026-4200-9e41-a3d97819e4da",
   "metadata": {},
   "outputs": [],
   "source": [
    "df[df.duplicated()]"
   ]
  },
  {
   "cell_type": "code",
   "execution_count": null,
   "id": "6b7757da-b6f4-47a6-84d2-21132083cef0",
   "metadata": {},
   "outputs": [],
   "source": [
    "df[df.duplicated(keep = False)]"
   ]
  },
  {
   "cell_type": "code",
   "execution_count": null,
   "id": "80743449-468f-48f3-af51-7c2b08c94c8c",
   "metadata": {},
   "outputs": [],
   "source": [
    "df.drop_duplicates(inplace=True)"
   ]
  },
  {
   "cell_type": "code",
   "execution_count": null,
   "id": "1cc704be-3bbc-4ab8-8a1a-d1145f02f98a",
   "metadata": {},
   "outputs": [],
   "source": [
    "df.shape"
   ]
  },
  {
   "cell_type": "code",
   "execution_count": null,
   "id": "d872e680-c8b3-461e-bddd-df96845cae40",
   "metadata": {},
   "outputs": [],
   "source": [
    "df.duplicated().sum()"
   ]
  },
  {
   "cell_type": "raw",
   "id": "59bb5619-3978-447e-aac3-72a48cee3b51",
   "metadata": {},
   "source": [
    "Drop Columns"
   ]
  },
  {
   "cell_type": "code",
   "execution_count": null,
   "id": "6edcae31-c299-4464-9407-80115d58e96c",
   "metadata": {},
   "outputs": [],
   "source": [
    "df.head()"
   ]
  },
  {
   "cell_type": "code",
   "execution_count": null,
   "id": "b33b37a1-f5d4-4253-be08-35cd71f7dc6c",
   "metadata": {},
   "outputs": [],
   "source": [
    "df.tail(10)"
   ]
  },
  {
   "cell_type": "code",
   "execution_count": null,
   "id": "0669df17-9d4a-45f3-aa6a-07d02aad76a1",
   "metadata": {},
   "outputs": [],
   "source": [
    "df['Cylinders'].value_counts()"
   ]
  },
  {
   "cell_type": "code",
   "execution_count": null,
   "id": "4f85e2f2-c9f8-467f-bc1e-58319e9edbb1",
   "metadata": {},
   "outputs": [],
   "source": [
    "df.drop(columns=['Cylinders'],inplace=True)"
   ]
  },
  {
   "cell_type": "code",
   "execution_count": null,
   "id": "388f09aa-8fc6-4bcf-9a20-27a8560959a7",
   "metadata": {},
   "outputs": [],
   "source": [
    "df.head()"
   ]
  },
  {
   "cell_type": "code",
   "execution_count": null,
   "id": "b995bce4-6198-4360-a264-3d86eba1b162",
   "metadata": {},
   "outputs": [],
   "source": [
    "sns.pairplot(df)"
   ]
  },
  {
   "cell_type": "code",
   "execution_count": null,
   "id": "5ab00f95-964d-4518-a5a0-7ef2d307b23a",
   "metadata": {},
   "outputs": [],
   "source": [
    "plt.figure(figsize=(8, 5))\n",
    "sns.histplot(df[\"Price\"], bins=30, kde=True, color=\"blue\")\n",
    "plt.title(\"Distribution of Car Prices\")\n",
    "plt.xlabel(\"Price (Euros)\")\n",
    "plt.ylabel(\"Frequency\")\n",
    "plt.show()"
   ]
  },
  {
   "cell_type": "code",
   "execution_count": null,
   "id": "e92ec3d9-98ac-431c-98c9-8b24cfff7d34",
   "metadata": {},
   "outputs": [],
   "source": [
    "plt.figure(figsize=(10, 6))\n",
    "sns.heatmap(df.corr(), annot=True, cmap=\"coolwarm\", fmt=\".2f\", linewidths=0.5)\n",
    "plt.title(\"Feature Correlation Heatmap\")\n",
    "plt.show()"
   ]
  },
  {
   "cell_type": "markdown",
   "id": "d023a001-7868-47fc-afd2-0adf42f0c374",
   "metadata": {},
   "source": [
    "Price Distribution:\n",
    "\n",
    "#The price distribution is right-skewed, meaning a few expensive cars increase the average.\n",
    "\n",
    "\n",
    "Correlation Analysis:\n",
    "\n",
    "#Age and KM are negatively correlated with Price, indicating older and higher mileage cars tend to be cheaper.\n",
    "\n",
    "#HP, Weight, and CC have a positive correlation with Price, meaning higher engine power and larger vehicles are priced higher.\n",
    "\n",
    "#Cylinders have no variation (all values are 4), so we should remove this feature.\n",
    "\n",
    "#Doors and Gears have weak correlations with Price, which might make them less important predictors.\n",
    "\n",
    "#Multicollinearity present → Requires VIF analysis\n",
    "\n",
    "\n",
    "Fuel Type Handling:\n",
    "\n",
    "#Fuel_Type is categorical, so we need to encode it before using it in the regression model.\n",
    "\n",
    "#Fuel_Type encoded into two binary columns: Fuel_Type_Diesel and Fuel_Type_Petrol (with CNG as the baseline).\n"
   ]
  },
  {
   "cell_type": "code",
   "execution_count": null,
   "id": "21513bd3-83e6-47f3-b501-a451595b95da",
   "metadata": {},
   "outputs": [],
   "source": [
    "# Define independent variables (features) and dependent variable (target)\n",
    "X = df.drop(columns=[\"Price\"])  # Features\n",
    "y = df[\"Price\"]  # Target variable\n",
    "\n",
    "# Split dataset into 80% training and 20% testing\n",
    "X_train, X_test, y_train, y_test = train_test_split(X, y, test_size=0.2, random_state=23)\n",
    "\n",
    "# Display the shape of the training and testing sets\n",
    "X_train.shape, X_test.shape\n"
   ]
  },
  {
   "cell_type": "markdown",
   "id": "df9c1e3c-2542-4ff5-99a0-9473c28e20cd",
   "metadata": {},
   "source": [
    "The dataset has been successfully split:\n",
    "\n",
    "Training set: 1,148 samples\n",
    "Testing set: 287 samples\n",
    "Features: 10 variables"
   ]
  },
  {
   "cell_type": "code",
   "execution_count": null,
   "id": "502a3e13-9497-4c18-b077-252a5fdf8086",
   "metadata": {},
   "outputs": [],
   "source": [
    "# Adding constant for OLS regression\n",
    "X_train_const = sm.add_constant(X_train)\n",
    "X_test_const = sm.add_constant(X_test)"
   ]
  },
  {
   "cell_type": "code",
   "execution_count": null,
   "id": "eddfeacb-bdc4-408a-980e-26dc20e270ed",
   "metadata": {},
   "outputs": [],
   "source": [
    "#========== Variance Inflation Factor (VIF) for Multicollinearity =========\n",
    "def calculate_vif(X):\n",
    "    vif_data = pd.DataFrame()\n",
    "    vif_data[\"Feature\"] = X.columns\n",
    "    vif_data[\"VIF\"] = [variance_inflation_factor(X.values, i) for i in range(len(X.columns))]\n",
    "    return vif_data\n",
    "vif_baseline = calculate_vif(X_train)\n",
    "print(\"\\nVIF for Baseline Model:\\n\", calculate_vif(X_train))\n"
   ]
  },
  {
   "cell_type": "code",
   "execution_count": null,
   "id": "8aaf3151-fc2e-4ab3-86da-5a82b02a6a91",
   "metadata": {},
   "outputs": [],
   "source": [
    "# ========== Model 1: Baseline Multiple Linear Regression ==========\n",
    "model_1 = sm.OLS(y_train, X_train_const).fit()\n",
    "y_pred_1 = model_1.predict(X_test_const)"
   ]
  },
  {
   "cell_type": "code",
   "execution_count": null,
   "id": "164d0730-895d-46e8-ad27-59440380c740",
   "metadata": {},
   "outputs": [],
   "source": [
    "print(\"\\nModel 1 Summary:\\n\", model_1.summary())"
   ]
  },
  {
   "cell_type": "code",
   "execution_count": null,
   "id": "688b3fd5-669d-4dfe-8760-45198ec3a86d",
   "metadata": {},
   "outputs": [],
   "source": [
    "print(\"\\nModel 1 Coefficients:\")\n",
    "print(model_1.params)"
   ]
  },
  {
   "cell_type": "markdown",
   "id": "4145b3da-c612-41d1-85ec-6f6908766286",
   "metadata": {},
   "source": [
    "Baseline Model (Model 1)\n",
    "\n",
    "Includes all features.\n",
    "\n",
    "Helps determine initial variable importance."
   ]
  },
  {
   "cell_type": "code",
   "execution_count": null,
   "id": "9076d9c2-58cd-47df-9d77-2280d286ab9e",
   "metadata": {},
   "outputs": [],
   "source": [
    "# ========== Model 2: Feature Selection (Dropping Insignificant Features) ==========\n",
    "# Dropping statistically insignificant features based on p-values\n",
    "significant_features = X_train.columns[model_1.pvalues[1:] < 0.05]  # Select features with p-value < 0.05\n",
    "X_train_fs = sm.add_constant(X_train[significant_features])\n",
    "X_test_fs = sm.add_constant(X_test[significant_features])\n",
    "\n",
    "# Fit new model\n",
    "model_2 = sm.OLS(y_train, X_train_fs).fit()\n",
    "y_pred_2 = model_2.predict(X_test_fs)"
   ]
  },
  {
   "cell_type": "code",
   "execution_count": null,
   "id": "3dc0c849-611a-473b-819a-2ebbe7df2750",
   "metadata": {},
   "outputs": [],
   "source": [
    "# Print OLS Summary\n",
    "print(\"\\nModel 2 Summary (Feature Selection):\\n\", model_2.summary())"
   ]
  },
  {
   "cell_type": "code",
   "execution_count": null,
   "id": "df65ac56-b304-443d-93d0-cdad028bd50c",
   "metadata": {},
   "outputs": [],
   "source": [
    "print(\"\\nModel 2 Coefficients:\")\n",
    "print(model_2.params)"
   ]
  },
  {
   "cell_type": "markdown",
   "id": "064e88f6-c72c-462a-9ce6-fd0c72cc24aa",
   "metadata": {},
   "source": [
    "Feature Selection Model (Model 2)\n",
    "\n",
    "Removes high VIF variables to address multicollinearity.\n",
    "\n",
    "Improves interpretability while keeping performance."
   ]
  },
  {
   "cell_type": "code",
   "execution_count": null,
   "id": "198cf552-b531-40b8-9c77-f17b82499f99",
   "metadata": {},
   "outputs": [],
   "source": [
    "X_train_int = X_train.copy()\n",
    "X_test_int = X_test.copy()\n"
   ]
  },
  {
   "cell_type": "code",
   "execution_count": null,
   "id": "ba26c5f4-13f1-459a-825f-aaa4a44d7ddb",
   "metadata": {},
   "outputs": [],
   "source": [
    "# Creating new interaction features\n",
    "X_train_int[\"Age_KM\"] = X_train[\"Age_08_04\"] * X_train[\"KM\"]\n",
    "X_test_int[\"Age_KM\"] = X_test[\"Age_08_04\"] * X_test[\"KM\"]\n",
    "X_train_int[\"HP_Weight\"] = X_train[\"HP\"] * X_train[\"Weight\"]\n",
    "X_test_int[\"HP_Weight\"] = X_test[\"HP\"] * X_test[\"Weight\"]\n"
   ]
  },
  {
   "cell_type": "code",
   "execution_count": null,
   "id": "a9e5c995-cb72-4c44-9fad-cfe1bfca5f29",
   "metadata": {},
   "outputs": [],
   "source": [
    "# Adding constant\n",
    "X_train_int_const = sm.add_constant(X_train_int)\n",
    "X_test_int_const = sm.add_constant(X_test_int)"
   ]
  },
  {
   "cell_type": "code",
   "execution_count": null,
   "id": "cf77225e-2985-49d3-8eee-ef3e0e2468dc",
   "metadata": {},
   "outputs": [],
   "source": [
    "# Fit new model\n",
    "model_3 = sm.OLS(y_train, X_train_int_const).fit()\n",
    "y_pred_3 = model_3.predict(X_test_int_const)"
   ]
  },
  {
   "cell_type": "code",
   "execution_count": null,
   "id": "35eb69c3-bf02-4670-aa37-2b52b945c80f",
   "metadata": {},
   "outputs": [],
   "source": [
    "#Print OLS Summary\n",
    "print(\"\\nModel 3 Summary (With Interaction Terms):\\n\", model_3.summary())\n"
   ]
  },
  {
   "cell_type": "code",
   "execution_count": null,
   "id": "0677f8e9-3eca-426b-86cb-b291a70da39c",
   "metadata": {},
   "outputs": [],
   "source": [
    "# Extract Coefficients\n",
    "print(\"\\nModel 3 Coefficients:\")\n",
    "print(model_3.params)"
   ]
  },
  {
   "cell_type": "markdown",
   "id": "981950a0-2e6b-4cf2-a480-579e354992ef",
   "metadata": {},
   "source": [
    "Interaction Terms Model (Model 3)\n",
    "\n",
    "Adds Age × KM interaction to capture relationships.\n",
    "    \n",
    "Slightly improves R² and predictive performance.\n"
   ]
  },
  {
   "cell_type": "markdown",
   "id": "029ec0e9-2297-4cbf-9619-579f18aa2f89",
   "metadata": {},
   "source": [
    "const- The intercept, representing the estimated price when all features are 0 (not meaningful alone).\n",
    "\n",
    "Age_08_04- Older cars tend to be cheaper.\n",
    "\n",
    "KM- Higher mileage means lower resale value.\n",
    "\n",
    "HP-  More power = higher price.\n",
    "\n",
    "Automatic  more expensive than manual ones.\n",
    "\n",
    "CC (Cylinder Volume)- Slight negative impact per unit increase, possibly due to fuel efficiency concerns.\n",
    "\n",
    "Doors- Each additional door reduces price  (may indicate consumer preference for 3-door cars in this dataset).\n",
    "\n",
    "Gears-  More gears increase price . Likely due to better performance.\n",
    "\n",
    "Weight- Each extra kg increases price . Heavier cars often have better build quality.\n",
    "\n",
    "Fuel_Type_Diesel- Diesel cars are more expensive than CNG (baseline category).\n",
    "\n",
    "Fuel_Type_Petrol-Petrol cars are more expensive than CNG."
   ]
  },
  {
   "cell_type": "code",
   "execution_count": 288,
   "id": "99c57280-05d5-4ef8-9910-b1d4473f8ef2",
   "metadata": {},
   "outputs": [
    {
     "name": "stdout",
     "output_type": "stream",
     "text": [
      "\n",
      "Baseline MLR: RMSE = 1290.13, R² = 0.8626\n",
      "\n",
      "Feature Selection MLR: RMSE = 1293.01, R² = 0.8620\n",
      "\n",
      "Interaction Terms MLR: RMSE = 1141.06, R² = 0.8925\n"
     ]
    }
   ],
   "source": [
    "# ========== Model Evaluation ==========\n",
    "def model_evaluation(y_test, y_pred, model_name):\n",
    "    rmse = np.sqrt(mean_squared_error(y_test, y_pred))\n",
    "    r2 = r2_score(y_test, y_pred)\n",
    "    print(f\"\\n{model_name}: RMSE = {rmse:.2f}, R² = {r2:.4f}\")\n",
    "\n",
    "# Evaluating all models\n",
    "model_evaluation(y_test, y_pred_1, \"Baseline MLR\")\n",
    "model_evaluation(y_test, y_pred_2, \"Feature Selection MLR\")\n",
    "model_evaluation(y_test, y_pred_3, \"Interaction Terms MLR\")"
   ]
  },
  {
   "cell_type": "markdown",
   "id": "916da452-5d7b-4fac-b6d4-a80ff983b9eb",
   "metadata": {},
   "source": [
    "Model Evaluation\n",
    "\n",
    "R² (Coefficient of Determination): Measures how well the model fits.\n",
    "\n",
    "RMSE (Root Mean Squared Error): Lower is better.\n",
    "\n",
    "Model 3 (Interaction Terms) performs best."
   ]
  },
  {
   "cell_type": "code",
   "execution_count": null,
   "id": "262d292b-7d37-47c1-9fb4-03fecd35c818",
   "metadata": {},
   "outputs": [],
   "source": [
    "# ========== AIC (Akaike Information Criterion) for Model Comparison ==========\n",
    "print(f\"\\nAIC Scores:\")\n",
    "print(f\"Baseline Model AIC: {model_1.aic}\")\n",
    "print(f\"Feature Selection Model AIC: {model_2.aic}\")\n",
    "print(f\"Interaction Model AIC: {model_3.aic}\")\n"
   ]
  },
  {
   "cell_type": "code",
   "execution_count": null,
   "id": "0d6616eb-dac8-4eba-a9e6-3997708eeffd",
   "metadata": {},
   "outputs": [],
   "source": [
    "# Homoscedasticity Check\n",
    "plt.scatter(model_1.fittedvalues, residuals_1)\n",
    "plt.axhline(y=0, color='red', linestyle='--')\n",
    "plt.title(\"Residuals vs. Fitted Values (Model 1)\")\n",
    "plt.xlabel(\"Fitted Values\")\n",
    "plt.ylabel(\"Residuals\")\n",
    "plt.show()"
   ]
  },
  {
   "cell_type": "code",
   "execution_count": null,
   "id": "8819f449-cc05-4792-a50c-783aa1bbe746",
   "metadata": {},
   "outputs": [],
   "source": [
    "plt.figure(figsize=(8,6))\n",
    "sns.residplot(x=model_1.fittedvalues, y=model_1.resid, lowess=True, line_kws={'color': 'red'})\n",
    "plt.xlabel(\"Fitted Values\")\n",
    "plt.ylabel(\"Residuals\")\n",
    "plt.title(\"Residual Plot for Baseline Model\")\n",
    "plt.show()"
   ]
  },
  {
   "cell_type": "markdown",
   "id": "0368ce54-4408-4cd9-817e-66078a53d07c",
   "metadata": {},
   "source": [
    "Residual Analysis\n",
    "\n",
    "Residual vs. Fitted plot checks assumptions of homoscedasticity.\n",
    "\n",
    "If residuals show patterns, model improvements are needed."
   ]
  },
  {
   "cell_type": "code",
   "execution_count": 290,
   "id": "24a2b49e-dc9d-4f44-8c5d-b227ccdd5fdf",
   "metadata": {},
   "outputs": [
    {
     "name": "stdout",
     "output_type": "stream",
     "text": [
      "\n",
      "Ridge Regression R²: 0.8924075622355321\n",
      "Lasso Regression R²: 0.8919120937149712\n"
     ]
    }
   ],
   "source": [
    "# Apply Ridge Regression\n",
    "ridge_model = Ridge(alpha=1.0)\n",
    "ridge_model.fit(X_train_int, y_train)\n",
    "ridge_r2 = r2_score(y_test, ridge_model.predict(X_test_int))\n",
    "\n",
    "# Apply Lasso Regression\n",
    "lasso_model = Lasso(alpha=1.0)\n",
    "lasso_model.fit(X_train_int, y_train)\n",
    "lasso_r2 = r2_score(y_test, lasso_model.predict(X_test_int))\n",
    "\n",
    "# Print Ridge & Lasso Performance\n",
    "print(\"\\nRidge Regression R²:\", ridge_r2)\n",
    "print(\"Lasso Regression R²:\", lasso_r2)"
   ]
  },
  {
   "cell_type": "markdown",
   "id": "62c834d0-df2d-4734-a925-cea7656b8d38",
   "metadata": {},
   "source": [
    "Lasso & Ridge Regression\n",
    "\n",
    "Ridge reduces overfitting while keeping all variables.\n",
    "\n",
    "Lasso drops less significant variables.\n",
    "\n",
    "Both Ridge and Lasso performed similarly to the Interaction Terms MLR, slightly improving error metrics."
   ]
  },
  {
   "cell_type": "markdown",
   "id": "37deec63-5dcd-446a-a261-624f688e6a16",
   "metadata": {},
   "source": [
    "INSIGHTS:-\n",
    " \n",
    " Baseline Model shows good performance.\n",
    "\n",
    " Feature selection reduces multicollinearity.\n",
    "\n",
    " Interaction terms slightly improve prediction.\n",
    "     \n",
    " Ridge & Lasso help with overfitting.\n",
    "     \n",
    " Residual analysis confirms model assumptions."
   ]
  },
  {
   "cell_type": "markdown",
   "id": "a07c051c-8a30-4046-91c2-7321faeeab31",
   "metadata": {},
   "source": [
    "Final Conclusion:\n",
    "\n",
    "\n",
    "The Interaction Terms MLR model was the best among the standard MLR models.\n",
    "    \n",
    "Regularization (Ridge/Lasso) further stabilized the model and prevented overfitting.\n",
    "    \n",
    "Final Recommendation: Use Ridge Regression with interaction terms for the best balance of accuracy and stability."
   ]
  },
  {
   "cell_type": "markdown",
   "id": "02745153-dc4e-4f18-ac54-42ba0986d2b1",
   "metadata": {},
   "source": [
    "Interview Questions:\n",
    "\r\n",
    "1.What is Normalization & Standardization and how is it helpfu\n",
    "l\n",
    "ANS:Normalization:\n",
    "\n",
    "Definition: Definition: Rescaling the features to a fixed range — usually [0, 1].\n",
    "\n",
    "Use Case: When the data doesn't follow a normal distribution or when you're using methods like KNN, SVM, or neural networks that are sensitive to scale.\n",
    "\n",
    "Standardization:\n",
    "\n",
    "Definition: Rescaling data to have a mean of 0 and standard deviation of 1.\n",
    "\n",
    "Use Case: When the data follows a normal distribution or you're using linear models, logistic regression, PCA, etc.?\n",
    "Prevents features with larger scales from dominating.\n",
    "\n",
    "Improves convergence speed and performance of gradient-based algorithms.\n",
    "\n",
    "Makes model weights easier to interpret.\n",
    "\n",
    "Ensures fair distance calculation for distance-based algorithms.\n",
    "\n",
    "\n",
    "2. Techniques to Address Multicollinearity in Multiple Linear Regression\n",
    "\n",
    "Multicollinearity occurs when independent variables are highly correlated, making it hard to determine their individual effect on the dependent variable.\n",
    "\n",
    "Techniques to Handle It:\n",
    "\n",
    "Remove Highly Correlated Predictors:\n",
    "\n",
    "Use correlation matrix or VIF (Variance Inflation Factor) to identify and drop variables.\n",
    "\n",
    "Rule of thumb: Drop variables with VIF > 5 or 10.\n",
    "\n",
    "Principal Component Analysis (PCA):\n",
    "\n",
    "Transforms correlated features into a smaller set of uncorrelated components.\n",
    "\n",
    "Ridge Regression (L2 Regularization):\n",
    "\n",
    "Penalizes large coefficients to reduce their impact, helping with multicollinearity.\n",
    "\n",
    "Partial Least Squares Regression (PLS):\n",
    "\n",
    "Similar to PCA but considers the response variable when projecting components.\n",
    "\n",
    "Combine Features:\n",
    "\n",
    "If two features are highly correlated, combine them using mathematical operations like sum or mean.\n",
    "\n",
    "Domain Knowledge:\n",
    "\n",
    "Drop or prioritize variables based on business relevance or practical implications.\n",
    "\n",
    "\n",
    "\r\n"
   ]
  }
 ],
 "metadata": {
  "kernelspec": {
   "display_name": "Python 3 (ipykernel)",
   "language": "python",
   "name": "python3"
  },
  "language_info": {
   "codemirror_mode": {
    "name": "ipython",
    "version": 3
   },
   "file_extension": ".py",
   "mimetype": "text/x-python",
   "name": "python",
   "nbconvert_exporter": "python",
   "pygments_lexer": "ipython3",
   "version": "3.12.4"
  }
 },
 "nbformat": 4,
 "nbformat_minor": 5
}
