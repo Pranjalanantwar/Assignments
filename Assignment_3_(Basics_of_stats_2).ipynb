{
 "cells": [
  {
   "cell_type": "code",
   "execution_count": null,
   "metadata": {
    "id": "DmN5zv7T6o3t"
   },
   "outputs": [],
   "source": [
    "from  scipy import stats\n",
    "import numpy as np"
   ]
  },
  {
   "cell_type": "code",
   "execution_count": null,
   "metadata": {
    "colab": {
     "base_uri": "https://localhost:8080/"
    },
    "id": "CECQ9vP67NAo",
    "outputId": "33942d8e-4d93-4ab0-9094-34a4c1095a43"
   },
   "outputs": [
    {
     "name": "stdout",
     "output_type": "stream",
     "text": [
      "\u001b[0m\u001b[01;34msample_data\u001b[0m/\n"
     ]
    }
   ],
   "source": [
    "ls #Displays flies in current working folder"
   ]
  },
  {
   "cell_type": "code",
   "execution_count": null,
   "metadata": {
    "colab": {
     "base_uri": "https://localhost:8080/",
     "height": 35
    },
    "id": "qYY5MQdn7eN0",
    "outputId": "a842fdef-ff39-41b8-82f3-bf8ea6d160bd"
   },
   "outputs": [
    {
     "data": {
      "application/vnd.google.colaboratory.intrinsic+json": {
       "type": "string"
      },
      "text/plain": [
       "'/content'"
      ]
     },
     "execution_count": 29,
     "metadata": {},
     "output_type": "execute_result"
    }
   ],
   "source": [
    "import os\n",
    "os.getcwd()"
   ]
  },
  {
   "cell_type": "markdown",
   "metadata": {
    "id": "pq1_9K5K-lF6"
   },
   "source": [
    "Part (a): 99% Confidence Interval Using Sample Standard Deviation\n",
    "\n",
    "\n",
    "1.Calculate the sample mean and standard deviation.\n",
    "\n",
    "2.Use the t-distribution to compute the confidence interval since we are using the sample standard deviation.\n"
   ]
  },
  {
   "cell_type": "markdown",
   "metadata": {
    "id": "psGNWS5FG0T9"
   },
   "source": [
    "Step 1: State the problem clearly.\n",
    "We are asked to build a 99% confidence interval for the mean number of characters printed before failure for a print-head. The sample size is 15, and we are assuming the sample standard deviation is representative of the population. Since the sample size is small (n = 15), we will use the t-distribution for this task.\n",
    "\n",
    "Step 2: Gather the necessary data.\n",
    "The data provided is: 1.13, 1.55, 1.43, 0.92, 1.25, 1.36, 1.32, 0.85, 1.07, 1.48, 1.20, 1.33, 1.18, 1.22, 1.29 (in millions of characters).\n",
    "\n",
    "We need to calculate:\n",
    "\n",
    "length of data(n)\n",
    "\n",
    "The sample mean (x̅)\n",
    "\n",
    "The sample standard deviation (s)"
   ]
  },
  {
   "cell_type": "code",
   "execution_count": null,
   "metadata": {
    "id": "szwWhLDf8S3R"
   },
   "outputs": [],
   "source": [
    "#The durability of each print-head (in millions of characters)\n",
    "data=np.array([1.13, 1.55, 1.43, 0.92, 1.25, 1.36, 1.32, 0.85, 1.07, 1.48, 1.20, 1.33, 1.18, 1.22, 1.29])\n",
    "n=len(data)# n=sample size\n",
    "sample_mean=np.mean(data)#x̅=smaple mean\n",
    "sample_std=np.std(data)#s-smaple standard deviation\n",
    "confidence_level=0.99 #1-alpha=confidence level\n"
   ]
  },
  {
   "cell_type": "markdown",
   "metadata": {
    "id": "xZaCatq0H2dR"
   },
   "source": [
    "Step 3: Calculate the confidence interval.\n",
    "The confidence interval is calculated as:"
   ]
  },
  {
   "cell_type": "code",
   "execution_count": null,
   "metadata": {
    "colab": {
     "base_uri": "https://localhost:8080/"
    },
    "id": "5hkKEnkx-YZL",
    "outputId": "bd94a3ad-0a7b-4ad2-e871-d586796b19c7"
   },
   "outputs": [
    {
     "name": "stdout",
     "output_type": "stream",
     "text": [
      "Part (a) - 99% Confidence Interval (using sample standard deviation [1.0952 1.3821]\n"
     ]
    }
   ],
   "source": [
    "con_std_sample=stats.t.interval(confidence_level, df=n-1, loc=sample_mean, scale=sample_std/np.sqrt(n))\n",
    "print(f\"Part (a) - 99% Confidence Interval (using sample standard deviation\",np.round(con_std_sample,4))"
   ]
  },
  {
   "cell_type": "markdown",
   "metadata": {
    "id": "ksOUwGDlIJ0A"
   },
   "source": [
    "Explaination-since population standard deviation is unkonwn and the smaple size is small , we have to use t-distribution for confidence interval.The t-distribution is more appropriate than the normal distribution when dealing with small sample sizes and when the population standard deviation is not known. The t-distribution accounts for the increased variability expected in small samples."
   ]
  },
  {
   "cell_type": "markdown",
   "metadata": {
    "id": "FMumSl36IkbC"
   },
   "source": [
    "Part b: Build 99% Confidence Interval Using Known Population Standard Deviation\n",
    "\n",
    "Step 1: State the problem.\n",
    "Now, we're asked to construct the 99% confidence interval for the mean number of characters printed before failure, but with the assumption that the population standard deviation is 0.2 million characters. In this case, we will use the z-distribution because the population standard deviation is known.\n",
    "\n",
    "Step 2: Gather the necessary data.\n",
    "\n",
    "length of data(n)\n",
    "\n",
    "The sample mean (x̅)\n",
    "\n",
    "population standard deviation = 0.2\n",
    "\n",
    "\n",
    "Step 3: Calculate the confidence interval."
   ]
  },
  {
   "cell_type": "code",
   "execution_count": null,
   "metadata": {
    "colab": {
     "base_uri": "https://localhost:8080/"
    },
    "id": "UKHW_CM__Lt6",
    "outputId": "9c5724d3-d306-4434-ea34-6b0e8ec046ee"
   },
   "outputs": [
    {
     "name": "stdout",
     "output_type": "stream",
     "text": [
      "Part (b) - 99% Confidence Interval (using population standard deviation): [1.1057 1.3717]\n"
     ]
    }
   ],
   "source": [
    "population_std = 0.2 # Given population standard deviation\n",
    "n=len(data)# n=sample size\n",
    "sample_mean=np.mean(data)#x̅=smaple mean\n",
    "confidence_level=0.99 #1-alpha=confidence level\n",
    "con_std_population=stats.norm.interval(confidence_level, loc=sample_mean, scale=population_std/np.sqrt(n))\n",
    "print(f\"Part (b) - 99% Confidence Interval (using population standard deviation):\",np.round(con_std_population,4))"
   ]
  },
  {
   "cell_type": "markdown",
   "metadata": {
    "id": "dL8ZaypHKGMz"
   },
   "source": [
    "Summary of Results:\n",
    "Using sample standard deviation (t-distribution): 99% confidence interval = [1.0952 1.3821] million characters.\n",
    "Using known population standard deviation (z-distribution): 99% confidence interval = [1.1057 1.3717] million characters."
   ]
  }
 ],
 "metadata": {
  "colab": {
   "provenance": []
  },
  "kernelspec": {
   "display_name": "Python 3 (ipykernel)",
   "language": "python",
   "name": "python3"
  },
  "language_info": {
   "codemirror_mode": {
    "name": "ipython",
    "version": 3
   },
   "file_extension": ".py",
   "mimetype": "text/x-python",
   "name": "python",
   "nbconvert_exporter": "python",
   "pygments_lexer": "ipython3",
   "version": "3.12.4"
  }
 },
 "nbformat": 4,
 "nbformat_minor": 4
}
